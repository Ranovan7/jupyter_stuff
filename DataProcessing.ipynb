{
 "cells": [
  {
   "cell_type": "code",
   "execution_count": 1,
   "metadata": {},
   "outputs": [],
   "source": [
    "'''\n",
    "Learning about data processing using python, specifically using Pandas library\n",
    "'''\n",
    "import pandas as pd"
   ]
  },
  {
   "cell_type": "code",
   "execution_count": 17,
   "metadata": {},
   "outputs": [
    {
     "name": "stdout",
     "output_type": "stream",
     "text": [
      "[('django_migrations',), ('sqlite_sequence',), ('auth_group',), ('auth_group_permissions',), ('auth_user_groups',), ('auth_user_user_permissions',), ('django_admin_log',), ('django_content_type',), ('auth_permission',), ('auth_user',), ('django_session',), ('accounting_category',), ('profiles_wallet',), ('accounting_report',), ('profiles_activationkey',)]\n",
      "\n",
      "   id  is_expense  amount  category_id  owner_id        date\n",
      "0   4           0  100000            3         1  2019-02-12\n",
      "1   5           0   10000            4         1  2019-02-17\n",
      "2   6           0  100000            5         1  2019-02-19\n",
      "3   7           0   11000            4         1  2019-02-20\n",
      "4   8           0   29000            4         1  2019-02-22\n",
      "   id          name\n",
      "0   1        snacks\n",
      "1   2         lunch\n",
      "2   3      paycheck\n",
      "3   4  pocket money\n",
      "4   5  from savings\n"
     ]
    }
   ],
   "source": [
    "''' Loading sqlite data using pandas '''\n",
    "import sqlite3\n",
    "\n",
    "conn= sqlite3.connect('data/db_backup_180719.sqlite3')\n",
    "\n",
    "# get all tables\n",
    "cursor = conn.cursor()\n",
    "cursor.execute(\"SELECT name FROM sqlite_master WHERE type='table';\")\n",
    "print(cursor.fetchall())\n",
    "print()\n",
    "\n",
    "df_report = pd.read_sql_query('SELECT * FROM accounting_report', conn)\n",
    "df_category = pd.read_sql_query('SELECT * FROM accounting_category', conn)\n",
    "\n",
    "print(df_report.head())\n",
    "print(df_category.head())"
   ]
  },
  {
   "cell_type": "code",
   "execution_count": 45,
   "metadata": {},
   "outputs": [
    {
     "name": "stdout",
     "output_type": "stream",
     "text": [
      "   category_id  amount\n",
      "0            3  100000\n",
      "1            4   10000\n",
      "2            5  100000\n",
      "3            4   11000\n",
      "4            4   29000\n",
      "\n",
      "   is_expense  amount  category_id        date\n",
      "0           0  100000            3  2019-02-12\n",
      "1           0   10000            4  2019-02-17\n",
      "2           0  100000            5  2019-02-19\n",
      "3           0   11000            4  2019-02-20\n",
      "4           0   29000            4  2019-02-22\n",
      "\n",
      "['laundry']\n",
      "\n",
      "       category\n",
      "0      paycheck\n",
      "1  pocket money\n",
      "2  from savings\n",
      "3  pocket money\n",
      "4  pocket money\n",
      "\n",
      "   status\n",
      "0  Income\n",
      "1  Income\n",
      "2  Income\n",
      "3  Income\n",
      "4  Income\n",
      "\n",
      "   amount        date      category  status\n",
      "0  100000  2019-02-12      paycheck  Income\n",
      "1   10000  2019-02-17  pocket money  Income\n",
      "2  100000  2019-02-19  from savings  Income\n",
      "3   11000  2019-02-20  pocket money  Income\n",
      "4   29000  2019-02-22  pocket money  Income\n"
     ]
    },
    {
     "name": "stderr",
     "output_type": "stream",
     "text": [
      "/home/rmyrnvn/Vault/DataScience/venv/lib/python3.7/site-packages/ipykernel_launcher.py:18: SettingWithCopyWarning: \n",
      "A value is trying to be set on a copy of a slice from a DataFrame.\n",
      "Try using .loc[row_indexer,col_indexer] = value instead\n",
      "\n",
      "See the caveats in the documentation: http://pandas.pydata.org/pandas-docs/stable/indexing.html#indexing-view-versus-copy\n"
     ]
    }
   ],
   "source": [
    "# show only selected column\n",
    "print(df[['category_id', 'amount']].head())\n",
    "print()\n",
    "\n",
    "# make new df using existing df with selected column\n",
    "df_details = df[['is_expense', 'amount', 'category_id', 'date']]\n",
    "print(df_details.head())\n",
    "print()\n",
    "\n",
    "# select row using value\n",
    "a_row = df_category.loc[df_category['id'] == 10]\n",
    "\n",
    "# print values\n",
    "print(a_row['name'].values)\n",
    "print()\n",
    "\n",
    "# make new columns which rows defined based by existing rows-column\n",
    "df_details['category'] = df_details['category_id'].map(lambda x: df_category.loc[df_category['id'] == x]['name'].values[0])\n",
    "print(df_details[['category']].head())\n",
    "print()\n",
    "\n",
    "df_details['status'] = df_details['is_expense'].map(lambda x: \"Expense\" if x==1 else \"Income\")\n",
    "print(df_details[['status']].head())\n",
    "print()\n",
    "\n",
    "# drop column\n",
    "df_details = df_details.drop(['category_id', 'is_expense'], axis=1)\n",
    "print(df_details.head())"
   ]
  },
  {
   "cell_type": "code",
   "execution_count": 100,
   "metadata": {},
   "outputs": [
    {
     "name": "stdout",
     "output_type": "stream",
     "text": [
      "    amount       date  category   status\n",
      "0   100000 2019-02-12  paycheck   Income\n",
      "21    8000 2019-02-13  thai tea  Expense\n",
      "20    1500 2019-02-13    snacks  Expense\n",
      "19   13500 2019-02-13   laundry  Expense\n",
      "24    2000 2019-02-15    snacks  Expense\n",
      "\n",
      "    amount       date category   status\n",
      "20    1500 2019-02-13   snacks  Expense\n",
      "24    2000 2019-02-15   snacks  Expense\n",
      "23    5000 2019-02-15   snacks  Expense\n",
      "28    1000 2019-02-16   snacks  Expense\n",
      "27   11000 2019-02-16   snacks  Expense\n",
      "\n",
      "Duration : 155 days\n",
      "Total snacks Expenses : Rp 677,500\n",
      "snacks expenses per day : Rp 4,371.0\n"
     ]
    }
   ],
   "source": [
    "import datetime\n",
    "\n",
    "# sort dataframe by date ascending\n",
    "df_details['date'] = pd.to_datetime(df_details['date'])\n",
    "df_details = df_details.sort_values(by=['date'])\n",
    "print(df_details.head())\n",
    "print()\n",
    "\n",
    "# show rows with specific values\n",
    "category = \"snacks\"\n",
    "cat = df_details[df_details.category == category]\n",
    "# cat = df_details[df_details.status == \"Expense\"]\n",
    "print(cat.head())\n",
    "print()\n",
    "\n",
    "# some calculation\n",
    "total_cat = sum(cat[['amount']].values)[0]\n",
    "duration = (cat['date'].values[-1] - cat['date'].values[0])\n",
    "days = duration.astype('timedelta64[D]').astype(int) + 1\n",
    "\n",
    "print(f\"Duration : {days} days\")\n",
    "print(f\"Total {category} Expenses : Rp {total_cat:,}\")\n",
    "print(f\"{category} expenses per day : Rp {round(total_cat/days):,}\")"
   ]
  },
  {
   "cell_type": "code",
   "execution_count": null,
   "metadata": {},
   "outputs": [],
   "source": []
  }
 ],
 "metadata": {
  "kernelspec": {
   "display_name": "Python 3",
   "language": "python",
   "name": "python3"
  },
  "language_info": {
   "codemirror_mode": {
    "name": "ipython",
    "version": 3
   },
   "file_extension": ".py",
   "mimetype": "text/x-python",
   "name": "python",
   "nbconvert_exporter": "python",
   "pygments_lexer": "ipython3",
   "version": "3.7.3"
  }
 },
 "nbformat": 4,
 "nbformat_minor": 2
}

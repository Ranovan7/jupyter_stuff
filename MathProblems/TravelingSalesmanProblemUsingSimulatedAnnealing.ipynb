{
 "cells": [
  {
   "cell_type": "code",
   "execution_count": 1,
   "metadata": {},
   "outputs": [],
   "source": [
    "''' Traveling Salesman Problem using Simulated Annealing '''\n",
    "%matplotlib inline\n",
    "import plotly.offline as py\n",
    "import matplotlib.pyplot as plt\n",
    "import random\n",
    "import time"
   ]
  },
  {
   "cell_type": "code",
   "execution_count": 2,
   "metadata": {},
   "outputs": [],
   "source": [
    "class City:\n",
    "    '''\n",
    "    City object\n",
    "    1. x : x coordinate of the city\n",
    "    2. y : y coordinate of the city\n",
    "    3. front : connection in the front of the city\n",
    "    4. back : connection in the back of the city\n",
    "    '''\n",
    "    front = None\n",
    "    back = None\n",
    "\n",
    "    def __init__(self, x, y):\n",
    "        '''Initialize the coordinate of the city'''\n",
    "        self.x = x\n",
    "        self.y = y\n",
    "    \n",
    "    def __repr__(self):\n",
    "        return f\"City at Coordinate({self.x}, {self.y})\"\n",
    "\n",
    "    def add_connection(self, front, back):\n",
    "        '''Add Connection to the city'''\n",
    "        self.front = front\n",
    "        self.back = back\n",
    "\n",
    "    def swap_connection(self):\n",
    "        '''Swap the Connection to the city'''\n",
    "        self.front, self.back = self.back, self.front\n",
    "\n",
    "\n",
    "class Tour:\n",
    "    '''\n",
    "    Tour / Route object\n",
    "    1. xList : list of x coordinate of the tour\n",
    "    2. yList : list of y coordinate of the tour\n",
    "    3. tour : list of cities in order\n",
    "    4. distance : total distance traveled\n",
    "    '''\n",
    "\n",
    "    def __init__(self, xList, yList, tour, distance):\n",
    "        '''Initialize the information about the tour'''\n",
    "        self.xList = xList\n",
    "        self.yList = yList\n",
    "        self.tour = tour\n",
    "        self.distance = distance\n",
    "\n",
    "    def set_attributes(self, other):\n",
    "        '''Set the object attributes to match other object attributes'''\n",
    "        self.xList = other.xList\n",
    "        self.yList = other.yList\n",
    "        self.tour = other.tour\n",
    "        self.distance = other.distance"
   ]
  },
  {
   "cell_type": "code",
   "execution_count": 3,
   "metadata": {},
   "outputs": [
    {
     "data": {
      "text/html": [
       "        <script type=\"text/javascript\">\n",
       "        window.PlotlyConfig = {MathJaxConfig: 'local'};\n",
       "        if (window.MathJax) {MathJax.Hub.Config({SVG: {font: \"STIX-Web\"}});}\n",
       "        if (typeof require !== 'undefined') {\n",
       "        require.undef(\"plotly\");\n",
       "        requirejs.config({\n",
       "            paths: {\n",
       "                'plotly': ['https://cdn.plot.ly/plotly-latest.min']\n",
       "            }\n",
       "        });\n",
       "        require(['plotly'], function(Plotly) {\n",
       "            window._Plotly = Plotly;\n",
       "        });\n",
       "        }\n",
       "        </script>\n",
       "        "
      ]
     },
     "metadata": {},
     "output_type": "display_data"
    },
    {
     "name": "stdout",
     "output_type": "stream",
     "text": [
      "Cities : [(221, 897), (798, 706), (607, 243), (808, 410), (355, 872), (718, 709), (345, 327), (472, 915), (559, 408), (559, 900), (508, 663), (41, 420), (89, 427), (429, 750), (706, 822)]\n",
      "Number of 2-Opt Operation : 500\n",
      "Number of Successful 2-Opt Operation : 18\n"
     ]
    },
    {
     "data": {
      "application/vnd.plotly.v1+json": {
       "config": {
        "linkText": "Export to plot.ly",
        "plotlyServerURL": "https://plot.ly",
        "showLink": false
       },
       "data": [
        {
         "mode": "markers",
         "type": "scatter",
         "uid": "f315e679-6b67-4062-a386-5eb1997598f3",
         "x": [
          89,
          559,
          607,
          41,
          808,
          706,
          345,
          798,
          429,
          718,
          355,
          221,
          559,
          472,
          508,
          89
         ],
         "y": [
          427,
          408,
          243,
          420,
          410,
          822,
          327,
          706,
          750,
          709,
          872,
          897,
          900,
          915,
          663,
          427
         ]
        },
        {
         "connectgaps": true,
         "mode": "lines",
         "type": "scatter",
         "uid": "c1e7c35d-bd20-4f1c-a91d-43d83f204369",
         "x": [
          89,
          559,
          607,
          41,
          808,
          706,
          345,
          798,
          429,
          718,
          355,
          221,
          559,
          472,
          508,
          89
         ],
         "y": [
          427,
          408,
          243,
          420,
          410,
          822,
          327,
          706,
          750,
          709,
          872,
          897,
          900,
          915,
          663,
          427
         ]
        }
       ],
       "frames": [
        {
         "data": [
          {
           "mode": "markers",
           "name": "City",
           "type": "scatter",
           "x": [
            89,
            559,
            607,
            41,
            808,
            706,
            345,
            798,
            429,
            718,
            355,
            221,
            559,
            472,
            508,
            89
           ],
           "y": [
            427,
            408,
            243,
            420,
            410,
            822,
            327,
            706,
            750,
            709,
            872,
            897,
            900,
            915,
            663,
            427
           ]
          },
          {
           "mode": "lines",
           "name": "Route",
           "type": "scatter",
           "x": [
            221,
            355,
            345,
            798,
            429,
            718,
            706,
            808,
            41,
            607,
            559,
            89,
            508,
            472,
            559,
            221
           ],
           "y": [
            897,
            872,
            327,
            706,
            750,
            709,
            822,
            410,
            420,
            243,
            408,
            427,
            663,
            915,
            900,
            897
           ]
          }
         ],
         "layout": {
          "title": {
           "text": "Successful Edges Swap No.1 with 6118.58 Distance"
          }
         },
         "name": "1"
        },
        {
         "data": [
          {
           "mode": "markers",
           "name": "City",
           "type": "scatter",
           "x": [
            89,
            559,
            607,
            41,
            808,
            706,
            345,
            798,
            429,
            718,
            355,
            221,
            559,
            472,
            508,
            89
           ],
           "y": [
            427,
            408,
            243,
            420,
            410,
            822,
            327,
            706,
            750,
            709,
            872,
            897,
            900,
            915,
            663,
            427
           ]
          },
          {
           "mode": "lines",
           "name": "Route",
           "type": "scatter",
           "x": [
            221,
            559,
            472,
            508,
            89,
            559,
            607,
            41,
            808,
            718,
            706,
            429,
            798,
            345,
            355,
            221
           ],
           "y": [
            897,
            900,
            915,
            663,
            427,
            408,
            243,
            420,
            410,
            709,
            822,
            750,
            706,
            327,
            872,
            897
           ]
          }
         ],
         "layout": {
          "title": {
           "text": "Successful Edges Swap No.2 with 6000.7 Distance"
          }
         },
         "name": "2"
        },
        {
         "data": [
          {
           "mode": "markers",
           "name": "City",
           "type": "scatter",
           "x": [
            89,
            559,
            607,
            41,
            808,
            706,
            345,
            798,
            429,
            718,
            355,
            221,
            559,
            472,
            508,
            89
           ],
           "y": [
            427,
            408,
            243,
            420,
            410,
            822,
            327,
            706,
            750,
            709,
            872,
            897,
            900,
            915,
            663,
            427
           ]
          },
          {
           "mode": "lines",
           "name": "Route",
           "type": "scatter",
           "x": [
            221,
            355,
            345,
            798,
            429,
            706,
            718,
            808,
            89,
            559,
            607,
            41,
            508,
            472,
            559,
            221
           ],
           "y": [
            897,
            872,
            327,
            706,
            750,
            822,
            709,
            410,
            427,
            408,
            243,
            420,
            663,
            915,
            900,
            897
           ]
          }
         ],
         "layout": {
          "title": {
           "text": "Successful Edges Swap No.3 with 5998.39 Distance"
          }
         },
         "name": "3"
        },
        {
         "data": [
          {
           "mode": "markers",
           "name": "City",
           "type": "scatter",
           "x": [
            89,
            559,
            607,
            41,
            808,
            706,
            345,
            798,
            429,
            718,
            355,
            221,
            559,
            472,
            508,
            89
           ],
           "y": [
            427,
            408,
            243,
            420,
            410,
            822,
            327,
            706,
            750,
            709,
            872,
            897,
            900,
            915,
            663,
            427
           ]
          },
          {
           "mode": "lines",
           "name": "Route",
           "type": "scatter",
           "x": [
            221,
            355,
            345,
            607,
            559,
            89,
            808,
            718,
            706,
            429,
            798,
            41,
            508,
            472,
            559,
            221
           ],
           "y": [
            897,
            872,
            327,
            243,
            408,
            427,
            410,
            709,
            822,
            750,
            706,
            420,
            663,
            915,
            900,
            897
           ]
          }
         ],
         "layout": {
          "title": {
           "text": "Successful Edges Swap No.4 with 5899.08 Distance"
          }
         },
         "name": "4"
        },
        {
         "data": [
          {
           "mode": "markers",
           "name": "City",
           "type": "scatter",
           "x": [
            89,
            559,
            607,
            41,
            808,
            706,
            345,
            798,
            429,
            718,
            355,
            221,
            559,
            472,
            508,
            89
           ],
           "y": [
            427,
            408,
            243,
            420,
            410,
            822,
            327,
            706,
            750,
            709,
            872,
            897,
            900,
            915,
            663,
            427
           ]
          },
          {
           "mode": "lines",
           "name": "Route",
           "type": "scatter",
           "x": [
            221,
            559,
            472,
            508,
            41,
            798,
            718,
            706,
            429,
            808,
            89,
            559,
            607,
            345,
            355,
            221
           ],
           "y": [
            897,
            900,
            915,
            663,
            420,
            706,
            709,
            822,
            750,
            410,
            427,
            408,
            243,
            327,
            872,
            897
           ]
          }
         ],
         "layout": {
          "title": {
           "text": "Successful Edges Swap No.5 with 5804.43 Distance"
          }
         },
         "name": "5"
        },
        {
         "data": [
          {
           "mode": "markers",
           "name": "City",
           "type": "scatter",
           "x": [
            89,
            559,
            607,
            41,
            808,
            706,
            345,
            798,
            429,
            718,
            355,
            221,
            559,
            472,
            508,
            89
           ],
           "y": [
            427,
            408,
            243,
            420,
            410,
            822,
            327,
            706,
            750,
            709,
            872,
            897,
            900,
            915,
            663,
            427
           ]
          },
          {
           "mode": "lines",
           "name": "Route",
           "type": "scatter",
           "x": [
            221,
            559,
            472,
            508,
            41,
            89,
            808,
            429,
            706,
            718,
            798,
            559,
            607,
            345,
            355,
            221
           ],
           "y": [
            897,
            900,
            915,
            663,
            420,
            427,
            410,
            750,
            822,
            709,
            706,
            408,
            243,
            327,
            872,
            897
           ]
          }
         ],
         "layout": {
          "title": {
           "text": "Successful Edges Swap No.6 with 4955.33 Distance"
          }
         },
         "name": "6"
        },
        {
         "data": [
          {
           "mode": "markers",
           "name": "City",
           "type": "scatter",
           "x": [
            89,
            559,
            607,
            41,
            808,
            706,
            345,
            798,
            429,
            718,
            355,
            221,
            559,
            472,
            508,
            89
           ],
           "y": [
            427,
            408,
            243,
            420,
            410,
            822,
            327,
            706,
            750,
            709,
            872,
            897,
            900,
            915,
            663,
            427
           ]
          },
          {
           "mode": "lines",
           "name": "Route",
           "type": "scatter",
           "x": [
            221,
            355,
            345,
            607,
            559,
            798,
            718,
            706,
            559,
            472,
            508,
            41,
            89,
            808,
            429,
            221
           ],
           "y": [
            897,
            872,
            327,
            243,
            408,
            706,
            709,
            822,
            900,
            915,
            663,
            420,
            427,
            410,
            750,
            897
           ]
          }
         ],
         "layout": {
          "title": {
           "text": "Successful Edges Swap No.7 with 4752.23 Distance"
          }
         },
         "name": "7"
        },
        {
         "data": [
          {
           "mode": "markers",
           "name": "City",
           "type": "scatter",
           "x": [
            89,
            559,
            607,
            41,
            808,
            706,
            345,
            798,
            429,
            718,
            355,
            221,
            559,
            472,
            508,
            89
           ],
           "y": [
            427,
            408,
            243,
            420,
            410,
            822,
            327,
            706,
            750,
            709,
            872,
            897,
            900,
            915,
            663,
            427
           ]
          },
          {
           "mode": "lines",
           "name": "Route",
           "type": "scatter",
           "x": [
            221,
            355,
            345,
            607,
            559,
            89,
            41,
            508,
            472,
            559,
            706,
            718,
            798,
            808,
            429,
            221
           ],
           "y": [
            897,
            872,
            327,
            243,
            408,
            427,
            420,
            663,
            915,
            900,
            822,
            709,
            706,
            410,
            750,
            897
           ]
          }
         ],
         "layout": {
          "title": {
           "text": "Successful Edges Swap No.8 with 4417.58 Distance"
          }
         },
         "name": "8"
        },
        {
         "data": [
          {
           "mode": "markers",
           "name": "City",
           "type": "scatter",
           "x": [
            89,
            559,
            607,
            41,
            808,
            706,
            345,
            798,
            429,
            718,
            355,
            221,
            559,
            472,
            508,
            89
           ],
           "y": [
            427,
            408,
            243,
            420,
            410,
            822,
            327,
            706,
            750,
            709,
            872,
            897,
            900,
            915,
            663,
            427
           ]
          },
          {
           "mode": "lines",
           "name": "Route",
           "type": "scatter",
           "x": [
            221,
            355,
            559,
            607,
            345,
            89,
            41,
            508,
            472,
            559,
            706,
            718,
            798,
            808,
            429,
            221
           ],
           "y": [
            897,
            872,
            408,
            243,
            327,
            427,
            420,
            663,
            915,
            900,
            822,
            709,
            706,
            410,
            750,
            897
           ]
          }
         ],
         "layout": {
          "title": {
           "text": "Successful Edges Swap No.9 with 4183.8 Distance"
          }
         },
         "name": "9"
        },
        {
         "data": [
          {
           "mode": "markers",
           "name": "City",
           "type": "scatter",
           "x": [
            89,
            559,
            607,
            41,
            808,
            706,
            345,
            798,
            429,
            718,
            355,
            221,
            559,
            472,
            508,
            89
           ],
           "y": [
            427,
            408,
            243,
            420,
            410,
            822,
            327,
            706,
            750,
            709,
            872,
            897,
            900,
            915,
            663,
            427
           ]
          },
          {
           "mode": "lines",
           "name": "Route",
           "type": "scatter",
           "x": [
            221,
            355,
            41,
            89,
            345,
            607,
            559,
            508,
            472,
            559,
            706,
            718,
            798,
            808,
            429,
            221
           ],
           "y": [
            897,
            872,
            420,
            427,
            327,
            243,
            408,
            663,
            915,
            900,
            822,
            709,
            706,
            410,
            750,
            897
           ]
          }
         ],
         "layout": {
          "title": {
           "text": "Successful Edges Swap No.10 with 3960.91 Distance"
          }
         },
         "name": "10"
        },
        {
         "data": [
          {
           "mode": "markers",
           "name": "City",
           "type": "scatter",
           "x": [
            89,
            559,
            607,
            41,
            808,
            706,
            345,
            798,
            429,
            718,
            355,
            221,
            559,
            472,
            508,
            89
           ],
           "y": [
            427,
            408,
            243,
            420,
            410,
            822,
            327,
            706,
            750,
            709,
            872,
            897,
            900,
            915,
            663,
            427
           ]
          },
          {
           "mode": "lines",
           "name": "Route",
           "type": "scatter",
           "x": [
            221,
            355,
            41,
            89,
            345,
            607,
            808,
            798,
            718,
            706,
            559,
            472,
            508,
            559,
            429,
            221
           ],
           "y": [
            897,
            872,
            420,
            427,
            327,
            243,
            410,
            706,
            709,
            822,
            900,
            915,
            663,
            408,
            750,
            897
           ]
          }
         ],
         "layout": {
          "title": {
           "text": "Successful Edges Swap No.11 with 3907.11 Distance"
          }
         },
         "name": "11"
        },
        {
         "data": [
          {
           "mode": "markers",
           "name": "City",
           "type": "scatter",
           "x": [
            89,
            559,
            607,
            41,
            808,
            706,
            345,
            798,
            429,
            718,
            355,
            221,
            559,
            472,
            508,
            89
           ],
           "y": [
            427,
            408,
            243,
            420,
            410,
            822,
            327,
            706,
            750,
            709,
            872,
            897,
            900,
            915,
            663,
            427
           ]
          },
          {
           "mode": "lines",
           "name": "Route",
           "type": "scatter",
           "x": [
            221,
            41,
            89,
            345,
            607,
            808,
            798,
            718,
            706,
            559,
            472,
            508,
            559,
            429,
            355,
            221
           ],
           "y": [
            897,
            420,
            427,
            327,
            243,
            410,
            706,
            709,
            822,
            900,
            915,
            663,
            408,
            750,
            872,
            897
           ]
          }
         ],
         "layout": {
          "title": {
           "text": "Successful Edges Swap No.12 with 3754.57 Distance"
          }
         },
         "name": "12"
        },
        {
         "data": [
          {
           "mode": "markers",
           "name": "City",
           "type": "scatter",
           "x": [
            89,
            559,
            607,
            41,
            808,
            706,
            345,
            798,
            429,
            718,
            355,
            221,
            559,
            472,
            508,
            89
           ],
           "y": [
            427,
            408,
            243,
            420,
            410,
            822,
            327,
            706,
            750,
            709,
            872,
            897,
            900,
            915,
            663,
            427
           ]
          },
          {
           "mode": "lines",
           "name": "Route",
           "type": "scatter",
           "x": [
            221,
            355,
            429,
            798,
            718,
            706,
            559,
            472,
            508,
            559,
            808,
            607,
            345,
            89,
            41,
            221
           ],
           "y": [
            897,
            872,
            750,
            706,
            709,
            822,
            900,
            915,
            663,
            408,
            410,
            243,
            327,
            427,
            420,
            897
           ]
          }
         ],
         "layout": {
          "title": {
           "text": "Successful Edges Swap No.13 with 3713.15 Distance"
          }
         },
         "name": "13"
        },
        {
         "data": [
          {
           "mode": "markers",
           "name": "City",
           "type": "scatter",
           "x": [
            89,
            559,
            607,
            41,
            808,
            706,
            345,
            798,
            429,
            718,
            355,
            221,
            559,
            472,
            508,
            89
           ],
           "y": [
            427,
            408,
            243,
            420,
            410,
            822,
            327,
            706,
            750,
            709,
            872,
            897,
            900,
            915,
            663,
            427
           ]
          },
          {
           "mode": "lines",
           "name": "Route",
           "type": "scatter",
           "x": [
            221,
            41,
            89,
            345,
            607,
            808,
            559,
            798,
            718,
            706,
            559,
            472,
            508,
            429,
            355,
            221
           ],
           "y": [
            897,
            420,
            427,
            327,
            243,
            410,
            408,
            706,
            709,
            822,
            900,
            915,
            663,
            750,
            872,
            897
           ]
          }
         ],
         "layout": {
          "title": {
           "text": "Successful Edges Swap No.14 with 3581.0 Distance"
          }
         },
         "name": "14"
        },
        {
         "data": [
          {
           "mode": "markers",
           "name": "City",
           "type": "scatter",
           "x": [
            89,
            559,
            607,
            41,
            808,
            706,
            345,
            798,
            429,
            718,
            355,
            221,
            559,
            472,
            508,
            89
           ],
           "y": [
            427,
            408,
            243,
            420,
            410,
            822,
            327,
            706,
            750,
            709,
            872,
            897,
            900,
            915,
            663,
            427
           ]
          },
          {
           "mode": "lines",
           "name": "Route",
           "type": "scatter",
           "x": [
            221,
            41,
            89,
            345,
            607,
            808,
            559,
            718,
            798,
            706,
            559,
            472,
            508,
            429,
            355,
            221
           ],
           "y": [
            897,
            420,
            427,
            327,
            243,
            410,
            408,
            709,
            706,
            822,
            900,
            915,
            663,
            750,
            872,
            897
           ]
          }
         ],
         "layout": {
          "title": {
           "text": "Successful Edges Swap No.15 with 3573.83 Distance"
          }
         },
         "name": "15"
        },
        {
         "data": [
          {
           "mode": "markers",
           "name": "City",
           "type": "scatter",
           "x": [
            89,
            559,
            607,
            41,
            808,
            706,
            345,
            798,
            429,
            718,
            355,
            221,
            559,
            472,
            508,
            89
           ],
           "y": [
            427,
            408,
            243,
            420,
            410,
            822,
            327,
            706,
            750,
            709,
            872,
            897,
            900,
            915,
            663,
            427
           ]
          },
          {
           "mode": "lines",
           "name": "Route",
           "type": "scatter",
           "x": [
            221,
            41,
            89,
            345,
            607,
            559,
            808,
            718,
            798,
            706,
            559,
            472,
            508,
            429,
            355,
            221
           ],
           "y": [
            897,
            420,
            427,
            327,
            243,
            408,
            410,
            709,
            706,
            822,
            900,
            915,
            663,
            750,
            872,
            897
           ]
          }
         ],
         "layout": {
          "title": {
           "text": "Successful Edges Swap No.16 with 3456.19 Distance"
          }
         },
         "name": "16"
        },
        {
         "data": [
          {
           "mode": "markers",
           "name": "City",
           "type": "scatter",
           "x": [
            89,
            559,
            607,
            41,
            808,
            706,
            345,
            798,
            429,
            718,
            355,
            221,
            559,
            472,
            508,
            89
           ],
           "y": [
            427,
            408,
            243,
            420,
            410,
            822,
            327,
            706,
            750,
            709,
            872,
            897,
            900,
            915,
            663,
            427
           ]
          },
          {
           "mode": "lines",
           "name": "Route",
           "type": "scatter",
           "x": [
            221,
            41,
            89,
            345,
            607,
            559,
            808,
            798,
            718,
            706,
            559,
            472,
            508,
            429,
            355,
            221
           ],
           "y": [
            897,
            420,
            427,
            327,
            243,
            408,
            410,
            706,
            709,
            822,
            900,
            915,
            663,
            750,
            872,
            897
           ]
          }
         ],
         "layout": {
          "title": {
           "text": "Successful Edges Swap No.17 with 3405.69 Distance"
          }
         },
         "name": "17"
        },
        {
         "data": [
          {
           "mode": "markers",
           "name": "City",
           "type": "scatter",
           "x": [
            89,
            559,
            607,
            41,
            808,
            706,
            345,
            798,
            429,
            718,
            355,
            221,
            559,
            472,
            508,
            89
           ],
           "y": [
            427,
            408,
            243,
            420,
            410,
            822,
            327,
            706,
            750,
            709,
            872,
            897,
            900,
            915,
            663,
            427
           ]
          },
          {
           "mode": "lines",
           "name": "Route",
           "type": "scatter",
           "x": [
            221,
            41,
            89,
            345,
            559,
            607,
            808,
            798,
            718,
            706,
            559,
            472,
            508,
            429,
            355,
            221
           ],
           "y": [
            897,
            420,
            427,
            327,
            408,
            243,
            410,
            706,
            709,
            822,
            900,
            915,
            663,
            750,
            872,
            897
           ]
          }
         ],
         "layout": {
          "title": {
           "text": "Successful Edges Swap No.18 with 3371.68 Distance"
          }
         },
         "name": "18"
        }
       ],
       "layout": {
        "sliders": [
         {
          "active": 0,
          "currentvalue": {
           "font": {
            "size": 20
           },
           "prefix": "Success No.",
           "visible": true,
           "xanchor": "right"
          },
          "len": 0.9,
          "pad": {
           "b": 10,
           "t": 50
          },
          "steps": [
           {
            "args": [
             [
              1
             ],
             {
              "frame": {
               "duration": 300,
               "redraw": false
              },
              "mode": "immediate",
              "transition": {
               "duration": 300
              }
             }
            ],
            "label": "1",
            "method": "animate"
           },
           {
            "args": [
             [
              2
             ],
             {
              "frame": {
               "duration": 300,
               "redraw": false
              },
              "mode": "immediate",
              "transition": {
               "duration": 300
              }
             }
            ],
            "label": "2",
            "method": "animate"
           },
           {
            "args": [
             [
              3
             ],
             {
              "frame": {
               "duration": 300,
               "redraw": false
              },
              "mode": "immediate",
              "transition": {
               "duration": 300
              }
             }
            ],
            "label": "3",
            "method": "animate"
           },
           {
            "args": [
             [
              4
             ],
             {
              "frame": {
               "duration": 300,
               "redraw": false
              },
              "mode": "immediate",
              "transition": {
               "duration": 300
              }
             }
            ],
            "label": "4",
            "method": "animate"
           },
           {
            "args": [
             [
              5
             ],
             {
              "frame": {
               "duration": 300,
               "redraw": false
              },
              "mode": "immediate",
              "transition": {
               "duration": 300
              }
             }
            ],
            "label": "5",
            "method": "animate"
           },
           {
            "args": [
             [
              6
             ],
             {
              "frame": {
               "duration": 300,
               "redraw": false
              },
              "mode": "immediate",
              "transition": {
               "duration": 300
              }
             }
            ],
            "label": "6",
            "method": "animate"
           },
           {
            "args": [
             [
              7
             ],
             {
              "frame": {
               "duration": 300,
               "redraw": false
              },
              "mode": "immediate",
              "transition": {
               "duration": 300
              }
             }
            ],
            "label": "7",
            "method": "animate"
           },
           {
            "args": [
             [
              8
             ],
             {
              "frame": {
               "duration": 300,
               "redraw": false
              },
              "mode": "immediate",
              "transition": {
               "duration": 300
              }
             }
            ],
            "label": "8",
            "method": "animate"
           },
           {
            "args": [
             [
              9
             ],
             {
              "frame": {
               "duration": 300,
               "redraw": false
              },
              "mode": "immediate",
              "transition": {
               "duration": 300
              }
             }
            ],
            "label": "9",
            "method": "animate"
           },
           {
            "args": [
             [
              10
             ],
             {
              "frame": {
               "duration": 300,
               "redraw": false
              },
              "mode": "immediate",
              "transition": {
               "duration": 300
              }
             }
            ],
            "label": "10",
            "method": "animate"
           },
           {
            "args": [
             [
              11
             ],
             {
              "frame": {
               "duration": 300,
               "redraw": false
              },
              "mode": "immediate",
              "transition": {
               "duration": 300
              }
             }
            ],
            "label": "11",
            "method": "animate"
           },
           {
            "args": [
             [
              12
             ],
             {
              "frame": {
               "duration": 300,
               "redraw": false
              },
              "mode": "immediate",
              "transition": {
               "duration": 300
              }
             }
            ],
            "label": "12",
            "method": "animate"
           },
           {
            "args": [
             [
              13
             ],
             {
              "frame": {
               "duration": 300,
               "redraw": false
              },
              "mode": "immediate",
              "transition": {
               "duration": 300
              }
             }
            ],
            "label": "13",
            "method": "animate"
           },
           {
            "args": [
             [
              14
             ],
             {
              "frame": {
               "duration": 300,
               "redraw": false
              },
              "mode": "immediate",
              "transition": {
               "duration": 300
              }
             }
            ],
            "label": "14",
            "method": "animate"
           },
           {
            "args": [
             [
              15
             ],
             {
              "frame": {
               "duration": 300,
               "redraw": false
              },
              "mode": "immediate",
              "transition": {
               "duration": 300
              }
             }
            ],
            "label": "15",
            "method": "animate"
           },
           {
            "args": [
             [
              16
             ],
             {
              "frame": {
               "duration": 300,
               "redraw": false
              },
              "mode": "immediate",
              "transition": {
               "duration": 300
              }
             }
            ],
            "label": "16",
            "method": "animate"
           },
           {
            "args": [
             [
              17
             ],
             {
              "frame": {
               "duration": 300,
               "redraw": false
              },
              "mode": "immediate",
              "transition": {
               "duration": 300
              }
             }
            ],
            "label": "17",
            "method": "animate"
           },
           {
            "args": [
             [
              18
             ],
             {
              "frame": {
               "duration": 300,
               "redraw": false
              },
              "mode": "immediate",
              "transition": {
               "duration": 300
              }
             }
            ],
            "label": "18",
            "method": "animate"
           }
          ],
          "transition": {
           "duration": 300,
           "easing": "cubic-in-out"
          },
          "x": 0.1,
          "xanchor": "left",
          "y": 0,
          "yanchor": "top"
         }
        ],
        "title": {
         "text": "Start"
        },
        "updatemenus": [
         {
          "buttons": [
           {
            "args": [
             null,
             {
              "frame": {
               "duration": 500,
               "redraw": false
              },
              "fromcurrent": true,
              "transition": {
               "duration": 300,
               "easing": "quadratic-in-out"
              }
             }
            ],
            "label": "Play",
            "method": "animate"
           },
           {
            "args": [
             [
              null
             ],
             {
              "frame": {
               "duration": 0,
               "redraw": false
              },
              "mode": "immediate",
              "transition": {
               "duration": 0
              }
             }
            ],
            "label": "Pause",
            "method": "animate"
           }
          ],
          "direction": "left",
          "pad": {
           "r": 10,
           "t": 87
          },
          "showactive": false,
          "type": "buttons",
          "x": 0.1,
          "xanchor": "right",
          "y": 0,
          "yanchor": "top"
         }
        ],
        "xaxis": {
         "autorange": false,
         "range": [
          0,
          1000
         ]
        },
        "yaxis": {
         "autorange": false,
         "range": [
          0,
          1000
         ]
        }
       }
      },
      "text/html": [
       "<div>\n",
       "        \n",
       "        \n",
       "            <div id=\"820e80b2-5e8f-4302-bdb7-5bef8ecce847\" class=\"plotly-graph-div\" style=\"height:525px; width:100%;\"></div>\n",
       "            <script type=\"text/javascript\">\n",
       "                require([\"plotly\"], function(Plotly) {\n",
       "                    window.PLOTLYENV=window.PLOTLYENV || {};\n",
       "                    window.PLOTLYENV.BASE_URL='https://plot.ly';\n",
       "                    \n",
       "                if (document.getElementById(\"820e80b2-5e8f-4302-bdb7-5bef8ecce847\")) {\n",
       "                    Plotly.newPlot(\n",
       "                        '820e80b2-5e8f-4302-bdb7-5bef8ecce847',\n",
       "                        [{\"mode\": \"markers\", \"type\": \"scatter\", \"uid\": \"f315e679-6b67-4062-a386-5eb1997598f3\", \"x\": [89, 559, 607, 41, 808, 706, 345, 798, 429, 718, 355, 221, 559, 472, 508, 89], \"y\": [427, 408, 243, 420, 410, 822, 327, 706, 750, 709, 872, 897, 900, 915, 663, 427]}, {\"connectgaps\": true, \"mode\": \"lines\", \"type\": \"scatter\", \"uid\": \"c1e7c35d-bd20-4f1c-a91d-43d83f204369\", \"x\": [89, 559, 607, 41, 808, 706, 345, 798, 429, 718, 355, 221, 559, 472, 508, 89], \"y\": [427, 408, 243, 420, 410, 822, 327, 706, 750, 709, 872, 897, 900, 915, 663, 427]}],\n",
       "                        {\"sliders\": [{\"active\": 0, \"currentvalue\": {\"font\": {\"size\": 20}, \"prefix\": \"Success No.\", \"visible\": true, \"xanchor\": \"right\"}, \"len\": 0.9, \"pad\": {\"b\": 10, \"t\": 50}, \"steps\": [{\"args\": [[1], {\"frame\": {\"duration\": 300, \"redraw\": false}, \"mode\": \"immediate\", \"transition\": {\"duration\": 300}}], \"label\": \"1\", \"method\": \"animate\"}, {\"args\": [[2], {\"frame\": {\"duration\": 300, \"redraw\": false}, \"mode\": \"immediate\", \"transition\": {\"duration\": 300}}], \"label\": \"2\", \"method\": \"animate\"}, {\"args\": [[3], {\"frame\": {\"duration\": 300, \"redraw\": false}, \"mode\": \"immediate\", \"transition\": {\"duration\": 300}}], \"label\": \"3\", \"method\": \"animate\"}, {\"args\": [[4], {\"frame\": {\"duration\": 300, \"redraw\": false}, \"mode\": \"immediate\", \"transition\": {\"duration\": 300}}], \"label\": \"4\", \"method\": \"animate\"}, {\"args\": [[5], {\"frame\": {\"duration\": 300, \"redraw\": false}, \"mode\": \"immediate\", \"transition\": {\"duration\": 300}}], \"label\": \"5\", \"method\": \"animate\"}, {\"args\": [[6], {\"frame\": {\"duration\": 300, \"redraw\": false}, \"mode\": \"immediate\", \"transition\": {\"duration\": 300}}], \"label\": \"6\", \"method\": \"animate\"}, {\"args\": [[7], {\"frame\": {\"duration\": 300, \"redraw\": false}, \"mode\": \"immediate\", \"transition\": {\"duration\": 300}}], \"label\": \"7\", \"method\": \"animate\"}, {\"args\": [[8], {\"frame\": {\"duration\": 300, \"redraw\": false}, \"mode\": \"immediate\", \"transition\": {\"duration\": 300}}], \"label\": \"8\", \"method\": \"animate\"}, {\"args\": [[9], {\"frame\": {\"duration\": 300, \"redraw\": false}, \"mode\": \"immediate\", \"transition\": {\"duration\": 300}}], \"label\": \"9\", \"method\": \"animate\"}, {\"args\": [[10], {\"frame\": {\"duration\": 300, \"redraw\": false}, \"mode\": \"immediate\", \"transition\": {\"duration\": 300}}], \"label\": \"10\", \"method\": \"animate\"}, {\"args\": [[11], {\"frame\": {\"duration\": 300, \"redraw\": false}, \"mode\": \"immediate\", \"transition\": {\"duration\": 300}}], \"label\": \"11\", \"method\": \"animate\"}, {\"args\": [[12], {\"frame\": {\"duration\": 300, \"redraw\": false}, \"mode\": \"immediate\", \"transition\": {\"duration\": 300}}], \"label\": \"12\", \"method\": \"animate\"}, {\"args\": [[13], {\"frame\": {\"duration\": 300, \"redraw\": false}, \"mode\": \"immediate\", \"transition\": {\"duration\": 300}}], \"label\": \"13\", \"method\": \"animate\"}, {\"args\": [[14], {\"frame\": {\"duration\": 300, \"redraw\": false}, \"mode\": \"immediate\", \"transition\": {\"duration\": 300}}], \"label\": \"14\", \"method\": \"animate\"}, {\"args\": [[15], {\"frame\": {\"duration\": 300, \"redraw\": false}, \"mode\": \"immediate\", \"transition\": {\"duration\": 300}}], \"label\": \"15\", \"method\": \"animate\"}, {\"args\": [[16], {\"frame\": {\"duration\": 300, \"redraw\": false}, \"mode\": \"immediate\", \"transition\": {\"duration\": 300}}], \"label\": \"16\", \"method\": \"animate\"}, {\"args\": [[17], {\"frame\": {\"duration\": 300, \"redraw\": false}, \"mode\": \"immediate\", \"transition\": {\"duration\": 300}}], \"label\": \"17\", \"method\": \"animate\"}, {\"args\": [[18], {\"frame\": {\"duration\": 300, \"redraw\": false}, \"mode\": \"immediate\", \"transition\": {\"duration\": 300}}], \"label\": \"18\", \"method\": \"animate\"}], \"transition\": {\"duration\": 300, \"easing\": \"cubic-in-out\"}, \"x\": 0.1, \"xanchor\": \"left\", \"y\": 0, \"yanchor\": \"top\"}], \"title\": {\"text\": \"Start\"}, \"updatemenus\": [{\"buttons\": [{\"args\": [null, {\"frame\": {\"duration\": 500, \"redraw\": false}, \"fromcurrent\": true, \"transition\": {\"duration\": 300, \"easing\": \"quadratic-in-out\"}}], \"label\": \"Play\", \"method\": \"animate\"}, {\"args\": [[null], {\"frame\": {\"duration\": 0, \"redraw\": false}, \"mode\": \"immediate\", \"transition\": {\"duration\": 0}}], \"label\": \"Pause\", \"method\": \"animate\"}], \"direction\": \"left\", \"pad\": {\"r\": 10, \"t\": 87}, \"showactive\": false, \"type\": \"buttons\", \"x\": 0.1, \"xanchor\": \"right\", \"y\": 0, \"yanchor\": \"top\"}], \"xaxis\": {\"autorange\": false, \"range\": [0, 1000]}, \"yaxis\": {\"autorange\": false, \"range\": [0, 1000]}},\n",
       "                        {\"showLink\": false, \"linkText\": \"Export to plot.ly\", \"plotlyServerURL\": \"https://plot.ly\", \"responsive\": true}\n",
       "                    ).then(function(){\n",
       "                            Plotly.addFrames('820e80b2-5e8f-4302-bdb7-5bef8ecce847', [{\"data\": [{\"mode\": \"markers\", \"name\": \"City\", \"x\": [89, 559, 607, 41, 808, 706, 345, 798, 429, 718, 355, 221, 559, 472, 508, 89], \"y\": [427, 408, 243, 420, 410, 822, 327, 706, 750, 709, 872, 897, 900, 915, 663, 427], \"type\": \"scatter\"}, {\"mode\": \"lines\", \"name\": \"Route\", \"x\": [221, 355, 345, 798, 429, 718, 706, 808, 41, 607, 559, 89, 508, 472, 559, 221], \"y\": [897, 872, 327, 706, 750, 709, 822, 410, 420, 243, 408, 427, 663, 915, 900, 897], \"type\": \"scatter\"}], \"layout\": {\"title\": {\"text\": \"Successful Edges Swap No.1 with 6118.58 Distance\"}}, \"name\": \"1\"}, {\"data\": [{\"mode\": \"markers\", \"name\": \"City\", \"x\": [89, 559, 607, 41, 808, 706, 345, 798, 429, 718, 355, 221, 559, 472, 508, 89], \"y\": [427, 408, 243, 420, 410, 822, 327, 706, 750, 709, 872, 897, 900, 915, 663, 427], \"type\": \"scatter\"}, {\"mode\": \"lines\", \"name\": \"Route\", \"x\": [221, 559, 472, 508, 89, 559, 607, 41, 808, 718, 706, 429, 798, 345, 355, 221], \"y\": [897, 900, 915, 663, 427, 408, 243, 420, 410, 709, 822, 750, 706, 327, 872, 897], \"type\": \"scatter\"}], \"layout\": {\"title\": {\"text\": \"Successful Edges Swap No.2 with 6000.7 Distance\"}}, \"name\": \"2\"}, {\"data\": [{\"mode\": \"markers\", \"name\": \"City\", \"x\": [89, 559, 607, 41, 808, 706, 345, 798, 429, 718, 355, 221, 559, 472, 508, 89], \"y\": [427, 408, 243, 420, 410, 822, 327, 706, 750, 709, 872, 897, 900, 915, 663, 427], \"type\": \"scatter\"}, {\"mode\": \"lines\", \"name\": \"Route\", \"x\": [221, 355, 345, 798, 429, 706, 718, 808, 89, 559, 607, 41, 508, 472, 559, 221], \"y\": [897, 872, 327, 706, 750, 822, 709, 410, 427, 408, 243, 420, 663, 915, 900, 897], \"type\": \"scatter\"}], \"layout\": {\"title\": {\"text\": \"Successful Edges Swap No.3 with 5998.39 Distance\"}}, \"name\": \"3\"}, {\"data\": [{\"mode\": \"markers\", \"name\": \"City\", \"x\": [89, 559, 607, 41, 808, 706, 345, 798, 429, 718, 355, 221, 559, 472, 508, 89], \"y\": [427, 408, 243, 420, 410, 822, 327, 706, 750, 709, 872, 897, 900, 915, 663, 427], \"type\": \"scatter\"}, {\"mode\": \"lines\", \"name\": \"Route\", \"x\": [221, 355, 345, 607, 559, 89, 808, 718, 706, 429, 798, 41, 508, 472, 559, 221], \"y\": [897, 872, 327, 243, 408, 427, 410, 709, 822, 750, 706, 420, 663, 915, 900, 897], \"type\": \"scatter\"}], \"layout\": {\"title\": {\"text\": \"Successful Edges Swap No.4 with 5899.08 Distance\"}}, \"name\": \"4\"}, {\"data\": [{\"mode\": \"markers\", \"name\": \"City\", \"x\": [89, 559, 607, 41, 808, 706, 345, 798, 429, 718, 355, 221, 559, 472, 508, 89], \"y\": [427, 408, 243, 420, 410, 822, 327, 706, 750, 709, 872, 897, 900, 915, 663, 427], \"type\": \"scatter\"}, {\"mode\": \"lines\", \"name\": \"Route\", \"x\": [221, 559, 472, 508, 41, 798, 718, 706, 429, 808, 89, 559, 607, 345, 355, 221], \"y\": [897, 900, 915, 663, 420, 706, 709, 822, 750, 410, 427, 408, 243, 327, 872, 897], \"type\": \"scatter\"}], \"layout\": {\"title\": {\"text\": \"Successful Edges Swap No.5 with 5804.43 Distance\"}}, \"name\": \"5\"}, {\"data\": [{\"mode\": \"markers\", \"name\": \"City\", \"x\": [89, 559, 607, 41, 808, 706, 345, 798, 429, 718, 355, 221, 559, 472, 508, 89], \"y\": [427, 408, 243, 420, 410, 822, 327, 706, 750, 709, 872, 897, 900, 915, 663, 427], \"type\": \"scatter\"}, {\"mode\": \"lines\", \"name\": \"Route\", \"x\": [221, 559, 472, 508, 41, 89, 808, 429, 706, 718, 798, 559, 607, 345, 355, 221], \"y\": [897, 900, 915, 663, 420, 427, 410, 750, 822, 709, 706, 408, 243, 327, 872, 897], \"type\": \"scatter\"}], \"layout\": {\"title\": {\"text\": \"Successful Edges Swap No.6 with 4955.33 Distance\"}}, \"name\": \"6\"}, {\"data\": [{\"mode\": \"markers\", \"name\": \"City\", \"x\": [89, 559, 607, 41, 808, 706, 345, 798, 429, 718, 355, 221, 559, 472, 508, 89], \"y\": [427, 408, 243, 420, 410, 822, 327, 706, 750, 709, 872, 897, 900, 915, 663, 427], \"type\": \"scatter\"}, {\"mode\": \"lines\", \"name\": \"Route\", \"x\": [221, 355, 345, 607, 559, 798, 718, 706, 559, 472, 508, 41, 89, 808, 429, 221], \"y\": [897, 872, 327, 243, 408, 706, 709, 822, 900, 915, 663, 420, 427, 410, 750, 897], \"type\": \"scatter\"}], \"layout\": {\"title\": {\"text\": \"Successful Edges Swap No.7 with 4752.23 Distance\"}}, \"name\": \"7\"}, {\"data\": [{\"mode\": \"markers\", \"name\": \"City\", \"x\": [89, 559, 607, 41, 808, 706, 345, 798, 429, 718, 355, 221, 559, 472, 508, 89], \"y\": [427, 408, 243, 420, 410, 822, 327, 706, 750, 709, 872, 897, 900, 915, 663, 427], \"type\": \"scatter\"}, {\"mode\": \"lines\", \"name\": \"Route\", \"x\": [221, 355, 345, 607, 559, 89, 41, 508, 472, 559, 706, 718, 798, 808, 429, 221], \"y\": [897, 872, 327, 243, 408, 427, 420, 663, 915, 900, 822, 709, 706, 410, 750, 897], \"type\": \"scatter\"}], \"layout\": {\"title\": {\"text\": \"Successful Edges Swap No.8 with 4417.58 Distance\"}}, \"name\": \"8\"}, {\"data\": [{\"mode\": \"markers\", \"name\": \"City\", \"x\": [89, 559, 607, 41, 808, 706, 345, 798, 429, 718, 355, 221, 559, 472, 508, 89], \"y\": [427, 408, 243, 420, 410, 822, 327, 706, 750, 709, 872, 897, 900, 915, 663, 427], \"type\": \"scatter\"}, {\"mode\": \"lines\", \"name\": \"Route\", \"x\": [221, 355, 559, 607, 345, 89, 41, 508, 472, 559, 706, 718, 798, 808, 429, 221], \"y\": [897, 872, 408, 243, 327, 427, 420, 663, 915, 900, 822, 709, 706, 410, 750, 897], \"type\": \"scatter\"}], \"layout\": {\"title\": {\"text\": \"Successful Edges Swap No.9 with 4183.8 Distance\"}}, \"name\": \"9\"}, {\"data\": [{\"mode\": \"markers\", \"name\": \"City\", \"x\": [89, 559, 607, 41, 808, 706, 345, 798, 429, 718, 355, 221, 559, 472, 508, 89], \"y\": [427, 408, 243, 420, 410, 822, 327, 706, 750, 709, 872, 897, 900, 915, 663, 427], \"type\": \"scatter\"}, {\"mode\": \"lines\", \"name\": \"Route\", \"x\": [221, 355, 41, 89, 345, 607, 559, 508, 472, 559, 706, 718, 798, 808, 429, 221], \"y\": [897, 872, 420, 427, 327, 243, 408, 663, 915, 900, 822, 709, 706, 410, 750, 897], \"type\": \"scatter\"}], \"layout\": {\"title\": {\"text\": \"Successful Edges Swap No.10 with 3960.91 Distance\"}}, \"name\": \"10\"}, {\"data\": [{\"mode\": \"markers\", \"name\": \"City\", \"x\": [89, 559, 607, 41, 808, 706, 345, 798, 429, 718, 355, 221, 559, 472, 508, 89], \"y\": [427, 408, 243, 420, 410, 822, 327, 706, 750, 709, 872, 897, 900, 915, 663, 427], \"type\": \"scatter\"}, {\"mode\": \"lines\", \"name\": \"Route\", \"x\": [221, 355, 41, 89, 345, 607, 808, 798, 718, 706, 559, 472, 508, 559, 429, 221], \"y\": [897, 872, 420, 427, 327, 243, 410, 706, 709, 822, 900, 915, 663, 408, 750, 897], \"type\": \"scatter\"}], \"layout\": {\"title\": {\"text\": \"Successful Edges Swap No.11 with 3907.11 Distance\"}}, \"name\": \"11\"}, {\"data\": [{\"mode\": \"markers\", \"name\": \"City\", \"x\": [89, 559, 607, 41, 808, 706, 345, 798, 429, 718, 355, 221, 559, 472, 508, 89], \"y\": [427, 408, 243, 420, 410, 822, 327, 706, 750, 709, 872, 897, 900, 915, 663, 427], \"type\": \"scatter\"}, {\"mode\": \"lines\", \"name\": \"Route\", \"x\": [221, 41, 89, 345, 607, 808, 798, 718, 706, 559, 472, 508, 559, 429, 355, 221], \"y\": [897, 420, 427, 327, 243, 410, 706, 709, 822, 900, 915, 663, 408, 750, 872, 897], \"type\": \"scatter\"}], \"layout\": {\"title\": {\"text\": \"Successful Edges Swap No.12 with 3754.57 Distance\"}}, \"name\": \"12\"}, {\"data\": [{\"mode\": \"markers\", \"name\": \"City\", \"x\": [89, 559, 607, 41, 808, 706, 345, 798, 429, 718, 355, 221, 559, 472, 508, 89], \"y\": [427, 408, 243, 420, 410, 822, 327, 706, 750, 709, 872, 897, 900, 915, 663, 427], \"type\": \"scatter\"}, {\"mode\": \"lines\", \"name\": \"Route\", \"x\": [221, 355, 429, 798, 718, 706, 559, 472, 508, 559, 808, 607, 345, 89, 41, 221], \"y\": [897, 872, 750, 706, 709, 822, 900, 915, 663, 408, 410, 243, 327, 427, 420, 897], \"type\": \"scatter\"}], \"layout\": {\"title\": {\"text\": \"Successful Edges Swap No.13 with 3713.15 Distance\"}}, \"name\": \"13\"}, {\"data\": [{\"mode\": \"markers\", \"name\": \"City\", \"x\": [89, 559, 607, 41, 808, 706, 345, 798, 429, 718, 355, 221, 559, 472, 508, 89], \"y\": [427, 408, 243, 420, 410, 822, 327, 706, 750, 709, 872, 897, 900, 915, 663, 427], \"type\": \"scatter\"}, {\"mode\": \"lines\", \"name\": \"Route\", \"x\": [221, 41, 89, 345, 607, 808, 559, 798, 718, 706, 559, 472, 508, 429, 355, 221], \"y\": [897, 420, 427, 327, 243, 410, 408, 706, 709, 822, 900, 915, 663, 750, 872, 897], \"type\": \"scatter\"}], \"layout\": {\"title\": {\"text\": \"Successful Edges Swap No.14 with 3581.0 Distance\"}}, \"name\": \"14\"}, {\"data\": [{\"mode\": \"markers\", \"name\": \"City\", \"x\": [89, 559, 607, 41, 808, 706, 345, 798, 429, 718, 355, 221, 559, 472, 508, 89], \"y\": [427, 408, 243, 420, 410, 822, 327, 706, 750, 709, 872, 897, 900, 915, 663, 427], \"type\": \"scatter\"}, {\"mode\": \"lines\", \"name\": \"Route\", \"x\": [221, 41, 89, 345, 607, 808, 559, 718, 798, 706, 559, 472, 508, 429, 355, 221], \"y\": [897, 420, 427, 327, 243, 410, 408, 709, 706, 822, 900, 915, 663, 750, 872, 897], \"type\": \"scatter\"}], \"layout\": {\"title\": {\"text\": \"Successful Edges Swap No.15 with 3573.83 Distance\"}}, \"name\": \"15\"}, {\"data\": [{\"mode\": \"markers\", \"name\": \"City\", \"x\": [89, 559, 607, 41, 808, 706, 345, 798, 429, 718, 355, 221, 559, 472, 508, 89], \"y\": [427, 408, 243, 420, 410, 822, 327, 706, 750, 709, 872, 897, 900, 915, 663, 427], \"type\": \"scatter\"}, {\"mode\": \"lines\", \"name\": \"Route\", \"x\": [221, 41, 89, 345, 607, 559, 808, 718, 798, 706, 559, 472, 508, 429, 355, 221], \"y\": [897, 420, 427, 327, 243, 408, 410, 709, 706, 822, 900, 915, 663, 750, 872, 897], \"type\": \"scatter\"}], \"layout\": {\"title\": {\"text\": \"Successful Edges Swap No.16 with 3456.19 Distance\"}}, \"name\": \"16\"}, {\"data\": [{\"mode\": \"markers\", \"name\": \"City\", \"x\": [89, 559, 607, 41, 808, 706, 345, 798, 429, 718, 355, 221, 559, 472, 508, 89], \"y\": [427, 408, 243, 420, 410, 822, 327, 706, 750, 709, 872, 897, 900, 915, 663, 427], \"type\": \"scatter\"}, {\"mode\": \"lines\", \"name\": \"Route\", \"x\": [221, 41, 89, 345, 607, 559, 808, 798, 718, 706, 559, 472, 508, 429, 355, 221], \"y\": [897, 420, 427, 327, 243, 408, 410, 706, 709, 822, 900, 915, 663, 750, 872, 897], \"type\": \"scatter\"}], \"layout\": {\"title\": {\"text\": \"Successful Edges Swap No.17 with 3405.69 Distance\"}}, \"name\": \"17\"}, {\"data\": [{\"mode\": \"markers\", \"name\": \"City\", \"x\": [89, 559, 607, 41, 808, 706, 345, 798, 429, 718, 355, 221, 559, 472, 508, 89], \"y\": [427, 408, 243, 420, 410, 822, 327, 706, 750, 709, 872, 897, 900, 915, 663, 427], \"type\": \"scatter\"}, {\"mode\": \"lines\", \"name\": \"Route\", \"x\": [221, 41, 89, 345, 559, 607, 808, 798, 718, 706, 559, 472, 508, 429, 355, 221], \"y\": [897, 420, 427, 327, 408, 243, 410, 706, 709, 822, 900, 915, 663, 750, 872, 897], \"type\": \"scatter\"}], \"layout\": {\"title\": {\"text\": \"Successful Edges Swap No.18 with 3371.68 Distance\"}}, \"name\": \"18\"}]);\n",
       "                        }).then(function(){\n",
       "                            Plotly.animate('820e80b2-5e8f-4302-bdb7-5bef8ecce847', null);\n",
       "                        }).then(function(){\n",
       "                            \n",
       "var gd = document.getElementById('820e80b2-5e8f-4302-bdb7-5bef8ecce847');\n",
       "var x = new MutationObserver(function (mutations, observer) {{\n",
       "        var display = window.getComputedStyle(gd).display;\n",
       "        if (!display || display === 'none') {{\n",
       "            console.log([gd, 'removed!']);\n",
       "            Plotly.purge(gd);\n",
       "            observer.disconnect();\n",
       "        }}\n",
       "}});\n",
       "\n",
       "// Listen for the removal of the full notebook cells\n",
       "var notebookContainer = gd.closest('#notebook-container');\n",
       "if (notebookContainer) {{\n",
       "    x.observe(notebookContainer, {childList: true});\n",
       "}}\n",
       "\n",
       "// Listen for the clearing of the current output cell\n",
       "var outputEl = gd.closest('.output');\n",
       "if (outputEl) {{\n",
       "    x.observe(outputEl, {childList: true});\n",
       "}}\n",
       "\n",
       "                        })\n",
       "                };\n",
       "                });\n",
       "            </script>\n",
       "        </div>"
      ]
     },
     "metadata": {},
     "output_type": "display_data"
    }
   ],
   "source": [
    "''' 2-Opt Edges Swap Animation '''\n",
    "import random\n",
    "import plotly.graph_objs as go\n",
    "from plotly.offline import init_notebook_mode, iplot\n",
    "\n",
    "random.seed(1437)\n",
    "\n",
    "# Helping Function\n",
    "def GenerateCity(cities):\n",
    "    '''\n",
    "    Make dictionary of City objects\n",
    "    1. cities : coordinate data of cities\n",
    "    --> returns dictionary of City objects\n",
    "    '''\n",
    "    result = {}\n",
    "    for i, data in enumerate(cities):\n",
    "        result[i] = City(data[0], data[1])\n",
    "    return result\n",
    "\n",
    "def Euclidean_dist(a, b):\n",
    "    '''\n",
    "    Calculate euclidean distance of 2 given points\n",
    "    1. a : first point, a city object\n",
    "    2. b : second point, a city object\n",
    "    --> returns eauclidean distance\n",
    "    '''\n",
    "    return ((a.x - b.x)**2 + (a.y - b.y)**2)**0.5\n",
    "\n",
    "# paramerters\n",
    "init_notebook_mode(connected=True)\n",
    "radiusX = 1000\n",
    "radiusY = 1000\n",
    "city_number = 15\n",
    "frames = []\n",
    "\n",
    "# Generate Random City Coordinate\n",
    "cities = [(random.randrange(radiusX), random.randrange(radiusY)) for x in range(city_number)]\n",
    "print(f\"Cities : {cities}\")\n",
    "\n",
    "# Preparing Tour\n",
    "start_point = random.randrange(city_number)\n",
    "\n",
    "# Make JSON format of the cities\n",
    "city_data = GenerateCity(cities)\n",
    "\n",
    "# Generate Random Initial Tour\n",
    "tour = random.sample(range(city_number), city_number)\n",
    "\n",
    "# Updating cities data to include connection to each city and data to add as city markers\n",
    "starting_x = []\n",
    "starting_y = []\n",
    "distance = 0\n",
    "for i, num in enumerate(tour):\n",
    "    starting_x.append(city_data[num].x)\n",
    "    starting_y.append(city_data[num].y)\n",
    "    city_data[num].add_connection(tour[(i - 1) % len(tour)], tour[(i + 1) % len(tour)])\n",
    "    distance += Euclidean_dist(city_data[num], city_data[city_data[num].back])\n",
    "\n",
    "starting_x.append(starting_x[0])\n",
    "starting_y.append(starting_y[0])\n",
    "distance += Euclidean_dist(city_data[tour[-1]], city_data[tour[0]])\n",
    "city_markers = go.Scatter(x=starting_x, y=starting_y, mode='markers', name='City')\n",
    "\n",
    "# Applying 2-Opt to get better routes\n",
    "counter = 0  # number of attempted edges swap\n",
    "success = 0  # number of successful edges swap\n",
    "unchecked = []  # all possible combination of edges swap\n",
    "for a in range(city_number):\n",
    "    for b in range(city_number):\n",
    "        if a != b:\n",
    "            unchecked.append((a,b))\n",
    "checked = []\n",
    "steps = []\n",
    "\n",
    "# everytime a successful edges swap occur, unchecked edges swap got reset\n",
    "# only stop while all possible edges swap not resulting in better distances\n",
    "while True:\n",
    "    if not unchecked:\n",
    "        # stop iteration if unchecked is empty\n",
    "        print(f\"Number of 2-Opt Operation : {counter}\")\n",
    "        print(f\"Number of Successful 2-Opt Operation : {success}\")\n",
    "        break\n",
    "\n",
    "    # picking 2 edges randomly\n",
    "    edge_pair = random.choice(unchecked)\n",
    "    i = edge_pair[0]\n",
    "    k = edge_pair[1]\n",
    "\n",
    "    # pick the point that will be swapped\n",
    "    i2 = city_data[edge_pair[0]].back\n",
    "    k2 = city_data[edge_pair[1]].front\n",
    "    \n",
    "    # check if 2 edges only have 3 point or not (the edges are not separate)\n",
    "    if k2 == i or i2 == k:\n",
    "        unchecked.remove(edge_pair)\n",
    "        checked.append(edge_pair)\n",
    "        continue\n",
    "    \n",
    "    # Calculate Old and New tour distance difference\n",
    "    original = Euclidean_dist(city_data[i], city_data[i2])\n",
    "    original += Euclidean_dist(city_data[k], city_data[k2])\n",
    "    new_swap = Euclidean_dist(city_data[i], city_data[k2])\n",
    "    new_swap += Euclidean_dist(city_data[k], city_data[i2])\n",
    "    \n",
    "    if new_swap < original:\n",
    "        # Changing Connection from the Original\n",
    "        city_data[i].back = k2\n",
    "        city_data[k].front = i2\n",
    "        city_data[i2].front = k\n",
    "        city_data[k2].back = i\n",
    "        # Reverse the Loop/Flow of the i2 - k2 connection\n",
    "        curr = k2\n",
    "        while True:\n",
    "            city_data[curr].swap_connection()\n",
    "            if curr == i2:\n",
    "                break\n",
    "            else:\n",
    "                curr = city_data[curr].back\n",
    "        # reset num_fail or restore edges_set and clear checked, and update distance, and update steps\n",
    "        success += 1\n",
    "        distance -= original\n",
    "        distance += new_swap\n",
    "        steps.append({\n",
    "            'args': [\n",
    "                        [success],\n",
    "                        {\n",
    "                            'frame': {'duration': 300, 'redraw': False},\n",
    "                            'mode': 'immediate',\n",
    "                            'transition': {'duration': 300}}\n",
    "                    ],\n",
    "             'label': success,\n",
    "             'method': 'animate'\n",
    "        })\n",
    "        unchecked.extend(checked)\n",
    "        checked.clear()\n",
    "        # if success % 100 == 0:\n",
    "        #     print(\"-->log:'{} Successful Edges Swapped'\".format(success))\n",
    "        \n",
    "        # 1. get x and y data, turn it into list\n",
    "        result = {\n",
    "            'x': [],\n",
    "            'y': []\n",
    "        }\n",
    "        current = 0\n",
    "        while True:\n",
    "            result['x'].append(city_data[current].x)\n",
    "            result['y'].append(city_data[current].y)\n",
    "            current = city_data[current].back\n",
    "            \n",
    "            if current == 0:\n",
    "                # break if it goes back to starting city\n",
    "                result['x'].append(city_data[current].x)\n",
    "                result['y'].append(city_data[current].y)\n",
    "                break\n",
    "        \n",
    "        # 2. update frames\n",
    "        frames.append(go.Frame(\n",
    "            data=[\n",
    "                city_markers,\n",
    "                go.Scatter(\n",
    "                    x=result['x'],\n",
    "                    y=result['y'],\n",
    "                    mode='lines',\n",
    "                    name='Route')\n",
    "            ],\n",
    "            name = str(success),\n",
    "            layout = {'title': f\"Successful Edges Swap No.{success} with {round(distance, 2)} Distance\"}\n",
    "        ))\n",
    "    else:\n",
    "        unchecked.remove(edge_pair)\n",
    "        checked.append(edge_pair)\n",
    "    \n",
    "    # Logging for information during execution\n",
    "    counter += 1\n",
    "    if counter % 1000 == 0:\n",
    "        print(f\"At {counter} 2-Opt Operation...\")\n",
    "\n",
    "figure = {'data': [\n",
    "                       {\n",
    "                           'x': starting_x,\n",
    "                           'y': starting_y,\n",
    "                           'mode': 'markers'\n",
    "                       },\n",
    "                       {\n",
    "                           'x': starting_x,\n",
    "                           'y': starting_y,\n",
    "                           'mode': 'lines',\n",
    "                           'connectgaps': True\n",
    "                       }\n",
    "                  ],\n",
    "          'layout': {\n",
    "                        'xaxis': {'range': [0, radiusX], 'autorange': False},\n",
    "                        'yaxis': {'range': [0, radiusY], 'autorange': False},\n",
    "                        'title': 'Start',\n",
    "                        'updatemenus': [\n",
    "                            {\n",
    "                                'buttons': [\n",
    "                                    {\n",
    "                                        'args': [None, {'frame': {'duration': 500, 'redraw': False},\n",
    "                                                 'fromcurrent': True, 'transition': {'duration': 300, 'easing': 'quadratic-in-out'}}],\n",
    "                                        'label': 'Play',\n",
    "                                        'method': 'animate'\n",
    "                                    },\n",
    "                                    {\n",
    "                                        'args': [[None], {'frame': {'duration': 0, 'redraw': False}, 'mode': 'immediate',\n",
    "                                        'transition': {'duration': 0}}],\n",
    "                                        'label': 'Pause',\n",
    "                                        'method': 'animate'\n",
    "                                    }\n",
    "                                ],\n",
    "                                'direction': 'left',\n",
    "                                'pad': {'r': 10, 't': 87},\n",
    "                                'showactive': False,\n",
    "                                'type': 'buttons',\n",
    "                                'x': 0.1,\n",
    "                                'xanchor': 'right',\n",
    "                                'y': 0,\n",
    "                                'yanchor': 'top'\n",
    "                            }\n",
    "                         ],\n",
    "                         'sliders': [{\n",
    "                            'active': 0,\n",
    "                            'yanchor': 'top',\n",
    "                            'xanchor': 'left',\n",
    "                            'currentvalue': {\n",
    "                                'font': {'size': 20},\n",
    "                                'prefix': 'Success No.',\n",
    "                                'visible': True,\n",
    "                                'xanchor': 'right'\n",
    "                            },\n",
    "                            'transition': {'duration': 300, 'easing': 'cubic-in-out'},\n",
    "                            'pad': {'b': 10, 't': 50},\n",
    "                            'len': 0.9,\n",
    "                            'x': 0.1,\n",
    "                            'y': 0,\n",
    "                            'steps': steps\n",
    "                        }]\n",
    "                    },\n",
    "          'frames': frames\n",
    "         }\n",
    "\n",
    "iplot(figure)"
   ]
  },
  {
   "cell_type": "code",
   "execution_count": null,
   "metadata": {},
   "outputs": [],
   "source": []
  }
 ],
 "metadata": {
  "kernelspec": {
   "display_name": "Python 3",
   "language": "python",
   "name": "python3"
  },
  "language_info": {
   "codemirror_mode": {
    "name": "ipython",
    "version": 3
   },
   "file_extension": ".py",
   "mimetype": "text/x-python",
   "name": "python",
   "nbconvert_exporter": "python",
   "pygments_lexer": "ipython3",
   "version": "3.7.3"
  }
 },
 "nbformat": 4,
 "nbformat_minor": 2
}
